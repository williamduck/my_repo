{
 "cells": [
  {
   "cell_type": "markdown",
   "metadata": {},
   "source": [
    "# Comparison of the most liveable cities in the world"
   ]
  },
  {
   "cell_type": "markdown",
   "metadata": {},
   "source": [
    "## Introduction"
   ]
  },
  {
   "cell_type": "markdown",
   "metadata": {},
   "source": [
    "* Vienna, Melbourne, Osaka are the most livable cities in the world. They are located in different countries, are multicultural, and the only capital of their respective country is Vienna.\n",
    "\n",
    "* We want to explore how similar they are, to find out if there is any pattern in the city's view of restaurants, parks and places that make these cities the most livable in the world, or even discover the different aspects between them .\n",
    "\n",
    "* Comparing the four cities will help people who are looking for the best places to live or who would like to know them to choose the specific places, and the curious ones who would like to know the main places that exist in those cities and if that tends to be similarity between them.\n"
   ]
  },
  {
   "cell_type": "markdown",
   "metadata": {},
   "source": [
    "## Data Description"
   ]
  },
  {
   "cell_type": "markdown",
   "metadata": {},
   "source": [
    "* To consider the problem we can list the datas as below:\n",
    "\n",
    " * The Global Liveability Index of 2018 \n",
    " * Vienna Neighborhoods\n",
    " * Melbourne Neighborhoods\n",
    " * Osaka Neighborhoods\n",
    "\n",
    "\n",
    "* I used Foursquare API to get the most common venues of given Neighborhoods of cities"
   ]
  }
 ],
 "metadata": {
  "kernelspec": {
   "display_name": "Python 3",
   "language": "python",
   "name": "python3"
  },
  "language_info": {
   "codemirror_mode": {
    "name": "ipython",
    "version": 3
   },
   "file_extension": ".py",
   "mimetype": "text/x-python",
   "name": "python",
   "nbconvert_exporter": "python",
   "pygments_lexer": "ipython3",
   "version": "3.7.4"
  }
 },
 "nbformat": 4,
 "nbformat_minor": 4
}
